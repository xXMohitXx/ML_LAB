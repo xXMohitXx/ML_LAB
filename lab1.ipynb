{
 "cells": [
  {
   "cell_type": "code",
   "id": "initial_id",
   "metadata": {
    "collapsed": true,
    "ExecuteTime": {
     "end_time": "2024-09-08T11:26:37.059109Z",
     "start_time": "2024-09-08T11:26:36.752870Z"
    }
   },
   "source": "import numpy as np",
   "outputs": [],
   "execution_count": 1
  },
  {
   "metadata": {
    "ExecuteTime": {
     "end_time": "2024-09-08T11:27:53.201601Z",
     "start_time": "2024-09-08T11:27:53.195910Z"
    }
   },
   "cell_type": "code",
   "source": [
    "x=np.array([1,2,3,4,5])\n",
    "print(x)\n",
    "print(type(x))\n"
   ],
   "id": "a53b084ab3502619",
   "outputs": [
    {
     "name": "stdout",
     "output_type": "stream",
     "text": [
      "[1 2 3 4 5]\n",
      "<class 'numpy.ndarray'>\n"
     ]
    }
   ],
   "execution_count": 2
  },
  {
   "metadata": {
    "ExecuteTime": {
     "end_time": "2024-09-08T11:28:42.745878Z",
     "start_time": "2024-09-08T11:28:42.738617Z"
    }
   },
   "cell_type": "code",
   "source": [
    "y=np.array(['1','2',3])\n",
    "print(y)\n",
    "print(type(y))"
   ],
   "id": "467e73a9918fe01b",
   "outputs": [
    {
     "name": "stdout",
     "output_type": "stream",
     "text": [
      "['1' '2' '3']\n",
      "<class 'numpy.ndarray'>\n"
     ]
    }
   ],
   "execution_count": 3
  },
  {
   "metadata": {
    "ExecuteTime": {
     "end_time": "2024-09-08T11:30:27.535665Z",
     "start_time": "2024-09-08T11:30:27.519821Z"
    }
   },
   "cell_type": "code",
   "source": [
    "b=np.linspace(0,20,10,True,True)\n",
    "b"
   ],
   "id": "ec4695db40c9ae10",
   "outputs": [
    {
     "data": {
      "text/plain": [
       "(array([ 0.        ,  2.22222222,  4.44444444,  6.66666667,  8.88888889,\n",
       "        11.11111111, 13.33333333, 15.55555556, 17.77777778, 20.        ]),\n",
       " 2.2222222222222223)"
      ]
     },
     "execution_count": 4,
     "metadata": {},
     "output_type": "execute_result"
    }
   ],
   "execution_count": 4
  },
  {
   "metadata": {
    "ExecuteTime": {
     "end_time": "2024-09-08T11:31:03.648701Z",
     "start_time": "2024-09-08T11:31:03.643700Z"
    }
   },
   "cell_type": "code",
   "source": [
    "b=np.linspace(0,20,10,False,True)\n",
    "b"
   ],
   "id": "cad43b12a8e9942a",
   "outputs": [
    {
     "data": {
      "text/plain": [
       "(array([ 0.,  2.,  4.,  6.,  8., 10., 12., 14., 16., 18.]), 2.0)"
      ]
     },
     "execution_count": 5,
     "metadata": {},
     "output_type": "execute_result"
    }
   ],
   "execution_count": 5
  },
  {
   "metadata": {
    "ExecuteTime": {
     "end_time": "2024-09-08T11:32:03.589970Z",
     "start_time": "2024-09-08T11:32:03.584251Z"
    }
   },
   "cell_type": "code",
   "source": [
    "c=np.arange(1,20,1.99)\n",
    "c"
   ],
   "id": "9816ddafafd1b1e8",
   "outputs": [
    {
     "data": {
      "text/plain": [
       "array([ 1.  ,  2.99,  4.98,  6.97,  8.96, 10.95, 12.94, 14.93, 16.92,\n",
       "       18.91])"
      ]
     },
     "execution_count": 6,
     "metadata": {},
     "output_type": "execute_result"
    }
   ],
   "execution_count": 6
  },
  {
   "metadata": {
    "ExecuteTime": {
     "end_time": "2024-09-08T11:32:45.015458Z",
     "start_time": "2024-09-08T11:32:45.009509Z"
    }
   },
   "cell_type": "code",
   "source": [
    "c=np.ones((3,4))\n",
    "c"
   ],
   "id": "b10a24dea9f58501",
   "outputs": [
    {
     "data": {
      "text/plain": [
       "array([[1., 1., 1., 1.],\n",
       "       [1., 1., 1., 1.],\n",
       "       [1., 1., 1., 1.]])"
      ]
     },
     "execution_count": 7,
     "metadata": {},
     "output_type": "execute_result"
    }
   ],
   "execution_count": 7
  },
  {
   "metadata": {
    "ExecuteTime": {
     "end_time": "2024-09-08T11:33:34.572675Z",
     "start_time": "2024-09-08T11:33:34.565139Z"
    }
   },
   "cell_type": "code",
   "source": [
    "c=np.ones((3,4),int) #int is for type casting\n",
    "c"
   ],
   "id": "f82b3f994ac8e65b",
   "outputs": [
    {
     "data": {
      "text/plain": [
       "array([[1, 1, 1, 1],\n",
       "       [1, 1, 1, 1],\n",
       "       [1, 1, 1, 1]])"
      ]
     },
     "execution_count": 8,
     "metadata": {},
     "output_type": "execute_result"
    }
   ],
   "execution_count": 8
  },
  {
   "metadata": {
    "ExecuteTime": {
     "end_time": "2024-09-08T11:34:25.541081Z",
     "start_time": "2024-09-08T11:34:25.535557Z"
    }
   },
   "cell_type": "code",
   "source": [
    "d=np.zeros((3,4))\n",
    "d"
   ],
   "id": "8ee6104b66aef271",
   "outputs": [
    {
     "data": {
      "text/plain": [
       "array([[0., 0., 0., 0.],\n",
       "       [0., 0., 0., 0.],\n",
       "       [0., 0., 0., 0.]])"
      ]
     },
     "execution_count": 9,
     "metadata": {},
     "output_type": "execute_result"
    }
   ],
   "execution_count": 9
  },
  {
   "metadata": {
    "ExecuteTime": {
     "end_time": "2024-09-08T11:34:40.431823Z",
     "start_time": "2024-09-08T11:34:40.426291Z"
    }
   },
   "cell_type": "code",
   "source": [
    "e=np.random.rand(3,4)\n",
    "e"
   ],
   "id": "70ba94ad700e36f6",
   "outputs": [
    {
     "data": {
      "text/plain": [
       "array([[0.51250493, 0.34831131, 0.14466096, 0.33558965],\n",
       "       [0.2116146 , 0.005329  , 0.66202702, 0.7130347 ],\n",
       "       [0.45411103, 0.95319314, 0.95522648, 0.82285558]])"
      ]
     },
     "execution_count": 10,
     "metadata": {},
     "output_type": "execute_result"
    }
   ],
   "execution_count": 10
  },
  {
   "metadata": {
    "ExecuteTime": {
     "end_time": "2024-09-08T11:35:36.822214Z",
     "start_time": "2024-09-08T11:35:36.810882Z"
    }
   },
   "cell_type": "code",
   "source": [
    "f=np.eye(3) #1's for diagonal and 0's for other values\n",
    "f"
   ],
   "id": "7d83a9964869694a",
   "outputs": [
    {
     "data": {
      "text/plain": [
       "array([[1., 0., 0.],\n",
       "       [0., 1., 0.],\n",
       "       [0., 0., 1.]])"
      ]
     },
     "execution_count": 11,
     "metadata": {},
     "output_type": "execute_result"
    }
   ],
   "execution_count": 11
  },
  {
   "metadata": {
    "ExecuteTime": {
     "end_time": "2024-09-08T11:36:17.900450Z",
     "start_time": "2024-09-08T11:36:17.891072Z"
    }
   },
   "cell_type": "code",
   "source": [
    "x=np.arange(1,10,1)\n",
    "y=x.reshape(3,3)\n",
    "y"
   ],
   "id": "7f61f14ebe8294f0",
   "outputs": [
    {
     "data": {
      "text/plain": [
       "array([[1, 2, 3],\n",
       "       [4, 5, 6],\n",
       "       [7, 8, 9]])"
      ]
     },
     "execution_count": 12,
     "metadata": {},
     "output_type": "execute_result"
    }
   ],
   "execution_count": 12
  },
  {
   "metadata": {
    "ExecuteTime": {
     "end_time": "2024-09-08T11:36:36.026279Z",
     "start_time": "2024-09-08T11:36:36.019399Z"
    }
   },
   "cell_type": "code",
   "source": "y.shape",
   "id": "5acb915e215418a4",
   "outputs": [
    {
     "data": {
      "text/plain": [
       "(3, 3)"
      ]
     },
     "execution_count": 13,
     "metadata": {},
     "output_type": "execute_result"
    }
   ],
   "execution_count": 13
  },
  {
   "metadata": {
    "ExecuteTime": {
     "end_time": "2024-09-08T11:36:56.738092Z",
     "start_time": "2024-09-08T11:36:56.731149Z"
    }
   },
   "cell_type": "code",
   "source": [
    "y=np.arange(11,20,1)\n",
    "y"
   ],
   "id": "d89cc6de240a0a46",
   "outputs": [
    {
     "data": {
      "text/plain": [
       "array([11, 12, 13, 14, 15, 16, 17, 18, 19])"
      ]
     },
     "execution_count": 14,
     "metadata": {},
     "output_type": "execute_result"
    }
   ],
   "execution_count": 14
  },
  {
   "metadata": {
    "ExecuteTime": {
     "end_time": "2024-09-08T11:44:37.158175Z",
     "start_time": "2024-09-08T11:44:37.152034Z"
    }
   },
   "cell_type": "code",
   "source": "np.add(x,y)",
   "id": "fbc62994362249b0",
   "outputs": [
    {
     "data": {
      "text/plain": [
       "array([12, 14, 16, 18, 20, 22, 24, 26, 28])"
      ]
     },
     "execution_count": 15,
     "metadata": {},
     "output_type": "execute_result"
    }
   ],
   "execution_count": 15
  },
  {
   "metadata": {
    "ExecuteTime": {
     "end_time": "2024-09-08T11:47:12.041796Z",
     "start_time": "2024-09-08T11:47:12.034802Z"
    }
   },
   "cell_type": "code",
   "source": [
    "f=np.multiply(x,y)\n",
    "print(f)\n",
    "f=np.divide(x,y)\n",
    "print(f)\n",
    "f=np.subtract(x,y)\n",
    "print(f)\n",
    "f=np.remainder(x,y)\n",
    "print(f)"
   ],
   "id": "3b63ebcbd5f03619",
   "outputs": [
    {
     "name": "stdout",
     "output_type": "stream",
     "text": [
      "[ 11  24  39  56  75  96 119 144 171]\n",
      "[0.09090909 0.16666667 0.23076923 0.28571429 0.33333333 0.375\n",
      " 0.41176471 0.44444444 0.47368421]\n",
      "[-10 -10 -10 -10 -10 -10 -10 -10 -10]\n",
      "[1 2 3 4 5 6 7 8 9]\n"
     ]
    }
   ],
   "execution_count": 18
  },
  {
   "metadata": {
    "ExecuteTime": {
     "end_time": "2024-09-08T11:47:21.666255Z",
     "start_time": "2024-09-08T11:47:21.661246Z"
    }
   },
   "cell_type": "code",
   "source": "x[1]",
   "id": "4fa5ebf770de7d3",
   "outputs": [
    {
     "data": {
      "text/plain": [
       "2"
      ]
     },
     "execution_count": 19,
     "metadata": {},
     "output_type": "execute_result"
    }
   ],
   "execution_count": 19
  },
  {
   "metadata": {
    "ExecuteTime": {
     "end_time": "2024-09-08T11:47:37.901178Z",
     "start_time": "2024-09-08T11:47:37.894728Z"
    }
   },
   "cell_type": "code",
   "source": "x[1:5]",
   "id": "910bae84da49a193",
   "outputs": [
    {
     "data": {
      "text/plain": [
       "array([2, 3, 4, 5])"
      ]
     },
     "execution_count": 20,
     "metadata": {},
     "output_type": "execute_result"
    }
   ],
   "execution_count": 20
  },
  {
   "metadata": {
    "ExecuteTime": {
     "end_time": "2024-09-08T11:48:19.407603Z",
     "start_time": "2024-09-08T11:48:19.401917Z"
    }
   },
   "cell_type": "code",
   "source": [
    "z=np.array([[1,2,3],[4,5,6],[7,8,9]])\n",
    "z"
   ],
   "id": "9c276870147e9520",
   "outputs": [
    {
     "data": {
      "text/plain": [
       "array([[1, 2, 3],\n",
       "       [4, 5, 6],\n",
       "       [7, 8, 9]])"
      ]
     },
     "execution_count": 21,
     "metadata": {},
     "output_type": "execute_result"
    }
   ],
   "execution_count": 21
  },
  {
   "metadata": {
    "ExecuteTime": {
     "end_time": "2024-09-08T11:48:29.793790Z",
     "start_time": "2024-09-08T11:48:29.786362Z"
    }
   },
   "cell_type": "code",
   "source": "z[0,0]",
   "id": "f9ef3731acf3c93b",
   "outputs": [
    {
     "data": {
      "text/plain": [
       "1"
      ]
     },
     "execution_count": 22,
     "metadata": {},
     "output_type": "execute_result"
    }
   ],
   "execution_count": 22
  },
  {
   "metadata": {
    "ExecuteTime": {
     "end_time": "2024-09-08T11:48:40.736925Z",
     "start_time": "2024-09-08T11:48:40.729607Z"
    }
   },
   "cell_type": "code",
   "source": "z[1,0]",
   "id": "36aa114bd2001581",
   "outputs": [
    {
     "data": {
      "text/plain": [
       "4"
      ]
     },
     "execution_count": 23,
     "metadata": {},
     "output_type": "execute_result"
    }
   ],
   "execution_count": 23
  },
  {
   "metadata": {
    "ExecuteTime": {
     "end_time": "2024-09-08T11:49:06.002938Z",
     "start_time": "2024-09-08T11:49:05.995694Z"
    }
   },
   "cell_type": "code",
   "source": "z[0:2,0:2]",
   "id": "b692590e7de24edd",
   "outputs": [
    {
     "data": {
      "text/plain": [
       "array([[1, 2],\n",
       "       [4, 5]])"
      ]
     },
     "execution_count": 24,
     "metadata": {},
     "output_type": "execute_result"
    }
   ],
   "execution_count": 24
  },
  {
   "metadata": {
    "ExecuteTime": {
     "end_time": "2024-09-08T11:49:30.710021Z",
     "start_time": "2024-09-08T11:49:30.705017Z"
    }
   },
   "cell_type": "code",
   "source": [
    "y=x.copy()\n",
    "y"
   ],
   "id": "83f327bd441dcba5",
   "outputs": [
    {
     "data": {
      "text/plain": [
       "array([1, 2, 3, 4, 5, 6, 7, 8, 9])"
      ]
     },
     "execution_count": 25,
     "metadata": {},
     "output_type": "execute_result"
    }
   ],
   "execution_count": 25
  },
  {
   "metadata": {
    "ExecuteTime": {
     "end_time": "2024-09-08T11:49:40.675706Z",
     "start_time": "2024-09-08T11:49:40.670920Z"
    }
   },
   "cell_type": "code",
   "source": "p=x",
   "id": "2628ad53834f92fd",
   "outputs": [],
   "execution_count": 26
  },
  {
   "metadata": {
    "ExecuteTime": {
     "end_time": "2024-09-08T11:49:43.355996Z",
     "start_time": "2024-09-08T11:49:43.351225Z"
    }
   },
   "cell_type": "code",
   "source": "p",
   "id": "3b4a9ca36b8de781",
   "outputs": [
    {
     "data": {
      "text/plain": [
       "array([1, 2, 3, 4, 5, 6, 7, 8, 9])"
      ]
     },
     "execution_count": 27,
     "metadata": {},
     "output_type": "execute_result"
    }
   ],
   "execution_count": 27
  },
  {
   "metadata": {
    "ExecuteTime": {
     "end_time": "2024-09-08T11:50:01.748810Z",
     "start_time": "2024-09-08T11:50:01.743359Z"
    }
   },
   "cell_type": "code",
   "source": [
    "p[0]=100\n",
    "p"
   ],
   "id": "678b28b5ad4bda17",
   "outputs": [
    {
     "data": {
      "text/plain": [
       "array([100,   2,   3,   4,   5,   6,   7,   8,   9])"
      ]
     },
     "execution_count": 28,
     "metadata": {},
     "output_type": "execute_result"
    }
   ],
   "execution_count": 28
  },
  {
   "metadata": {
    "ExecuteTime": {
     "end_time": "2024-09-08T11:50:10.572304Z",
     "start_time": "2024-09-08T11:50:10.567082Z"
    }
   },
   "cell_type": "code",
   "source": "x\n",
   "id": "86e9134872244f0",
   "outputs": [
    {
     "data": {
      "text/plain": [
       "array([100,   2,   3,   4,   5,   6,   7,   8,   9])"
      ]
     },
     "execution_count": 29,
     "metadata": {},
     "output_type": "execute_result"
    }
   ],
   "execution_count": 29
  },
  {
   "metadata": {
    "ExecuteTime": {
     "end_time": "2024-09-08T11:50:49.961561Z",
     "start_time": "2024-09-08T11:50:49.954419Z"
    }
   },
   "cell_type": "code",
   "source": [
    "x=np.append(x,[10,11,12],axis=0)\n",
    "x"
   ],
   "id": "e9b7f7dc3a5eb9d",
   "outputs": [
    {
     "data": {
      "text/plain": [
       "array([100,   2,   3,   4,   5,   6,   7,   8,   9,  10,  11,  12])"
      ]
     },
     "execution_count": 30,
     "metadata": {},
     "output_type": "execute_result"
    }
   ],
   "execution_count": 30
  },
  {
   "metadata": {
    "ExecuteTime": {
     "end_time": "2024-09-08T11:51:07.518592Z",
     "start_time": "2024-09-08T11:51:07.511665Z"
    }
   },
   "cell_type": "code",
   "source": [
    "x=np.append(x,[10,11,12],axis=0)\n",
    "x"
   ],
   "id": "f5dd6931413bd883",
   "outputs": [
    {
     "data": {
      "text/plain": [
       "array([100,   2,   3,   4,   5,   6,   7,   8,   9,  10,  11,  12,  10,\n",
       "        11,  12])"
      ]
     },
     "execution_count": 31,
     "metadata": {},
     "output_type": "execute_result"
    }
   ],
   "execution_count": 31
  },
  {
   "metadata": {
    "ExecuteTime": {
     "end_time": "2024-09-08T11:51:41.031584Z",
     "start_time": "2024-09-08T11:51:41.023363Z"
    }
   },
   "cell_type": "code",
   "source": [
    "x=np.matrix(\"1,2,3;4,5,6;7,8,9\")\n",
    "x"
   ],
   "id": "34cb8be36192bdc1",
   "outputs": [
    {
     "data": {
      "text/plain": [
       "matrix([[1, 2, 3],\n",
       "        [4, 5, 6],\n",
       "        [7, 8, 9]])"
      ]
     },
     "execution_count": 32,
     "metadata": {},
     "output_type": "execute_result"
    }
   ],
   "execution_count": 32
  },
  {
   "metadata": {
    "ExecuteTime": {
     "end_time": "2024-09-08T11:51:54.692410Z",
     "start_time": "2024-09-08T11:51:54.684816Z"
    }
   },
   "cell_type": "code",
   "source": [
    "a=np.arange(0,20,1)\n",
    "b=a.reshape(5,4)\n",
    "c=np.matrix(b)\n",
    "c"
   ],
   "id": "b5a223450811ae06",
   "outputs": [
    {
     "data": {
      "text/plain": [
       "matrix([[ 0,  1,  2,  3],\n",
       "        [ 4,  5,  6,  7],\n",
       "        [ 8,  9, 10, 11],\n",
       "        [12, 13, 14, 15],\n",
       "        [16, 17, 18, 19]])"
      ]
     },
     "execution_count": 33,
     "metadata": {},
     "output_type": "execute_result"
    }
   ],
   "execution_count": 33
  },
  {
   "metadata": {
    "ExecuteTime": {
     "end_time": "2024-09-08T11:52:06.373761Z",
     "start_time": "2024-09-08T11:52:06.366489Z"
    }
   },
   "cell_type": "code",
   "source": "type(c)",
   "id": "5d23594c5504174c",
   "outputs": [
    {
     "data": {
      "text/plain": [
       "numpy.matrix"
      ]
     },
     "execution_count": 34,
     "metadata": {},
     "output_type": "execute_result"
    }
   ],
   "execution_count": 34
  },
  {
   "metadata": {
    "ExecuteTime": {
     "end_time": "2024-09-08T11:52:37.871961Z",
     "start_time": "2024-09-08T11:52:37.867274Z"
    }
   },
   "cell_type": "code",
   "source": "d=np.matrix(np.arange(0,20).reshape(5,4))",
   "id": "fbd2cf8408d7e5b",
   "outputs": [],
   "execution_count": 35
  },
  {
   "metadata": {
    "ExecuteTime": {
     "end_time": "2024-09-08T11:52:43.295307Z",
     "start_time": "2024-09-08T11:52:43.288268Z"
    }
   },
   "cell_type": "code",
   "source": "d",
   "id": "b6a3547bab1b653e",
   "outputs": [
    {
     "data": {
      "text/plain": [
       "matrix([[ 0,  1,  2,  3],\n",
       "        [ 4,  5,  6,  7],\n",
       "        [ 8,  9, 10, 11],\n",
       "        [12, 13, 14, 15],\n",
       "        [16, 17, 18, 19]])"
      ]
     },
     "execution_count": 36,
     "metadata": {},
     "output_type": "execute_result"
    }
   ],
   "execution_count": 36
  },
  {
   "metadata": {
    "ExecuteTime": {
     "end_time": "2024-09-08T11:53:33.259788Z",
     "start_time": "2024-09-08T11:53:33.252162Z"
    }
   },
   "cell_type": "code",
   "source": [
    "e=np.matrix(np.arange(10,30).reshape(5,4))\n",
    "e=np.transpose(e)\n",
    "e"
   ],
   "id": "eee0ebda4ad30e49",
   "outputs": [
    {
     "data": {
      "text/plain": [
       "matrix([[10, 14, 18, 22, 26],\n",
       "        [11, 15, 19, 23, 27],\n",
       "        [12, 16, 20, 24, 28],\n",
       "        [13, 17, 21, 25, 29]])"
      ]
     },
     "execution_count": 37,
     "metadata": {},
     "output_type": "execute_result"
    }
   ],
   "execution_count": 37
  },
  {
   "metadata": {
    "ExecuteTime": {
     "end_time": "2024-09-08T11:53:50.345930Z",
     "start_time": "2024-09-08T11:53:50.339520Z"
    }
   },
   "cell_type": "code",
   "source": "f=np.dot(c,e)",
   "id": "1959d559b827119e",
   "outputs": [],
   "execution_count": 38
  },
  {
   "metadata": {
    "ExecuteTime": {
     "end_time": "2024-09-08T11:53:52.780530Z",
     "start_time": "2024-09-08T11:53:52.775384Z"
    }
   },
   "cell_type": "code",
   "source": "f",
   "id": "96fbcfd3f0efc9ce",
   "outputs": [
    {
     "data": {
      "text/plain": [
       "matrix([[  74,   98,  122,  146,  170],\n",
       "        [ 258,  346,  434,  522,  610],\n",
       "        [ 442,  594,  746,  898, 1050],\n",
       "        [ 626,  842, 1058, 1274, 1490],\n",
       "        [ 810, 1090, 1370, 1650, 1930]])"
      ]
     },
     "execution_count": 39,
     "metadata": {},
     "output_type": "execute_result"
    }
   ],
   "execution_count": 39
  },
  {
   "metadata": {
    "ExecuteTime": {
     "end_time": "2024-09-08T11:54:20.776188Z",
     "start_time": "2024-09-08T11:54:20.761113Z"
    }
   },
   "cell_type": "code",
   "source": [
    "g=np.linalg.det(f)\n",
    "g"
   ],
   "id": "1a799a88e131e857",
   "outputs": [
    {
     "data": {
      "text/plain": [
       "0.0"
      ]
     },
     "execution_count": 40,
     "metadata": {},
     "output_type": "execute_result"
    }
   ],
   "execution_count": 40
  },
  {
   "metadata": {
    "ExecuteTime": {
     "end_time": "2024-09-08T11:56:03.133536Z",
     "start_time": "2024-09-08T11:56:03.109353Z"
    }
   },
   "cell_type": "code",
   "source": [
    "h=np.linalg.inv(f)\n",
    "h"
   ],
   "id": "41c162ec0d39ed45",
   "outputs": [
    {
     "ename": "LinAlgError",
     "evalue": "Singular matrix",
     "output_type": "error",
     "traceback": [
      "\u001B[1;31m---------------------------------------------------------------------------\u001B[0m",
      "\u001B[1;31mLinAlgError\u001B[0m                               Traceback (most recent call last)",
      "Cell \u001B[1;32mIn[46], line 1\u001B[0m\n\u001B[1;32m----> 1\u001B[0m h\u001B[38;5;241m=\u001B[39mnp\u001B[38;5;241m.\u001B[39mlinalg\u001B[38;5;241m.\u001B[39minv(f)\n\u001B[0;32m      2\u001B[0m h\n",
      "File \u001B[1;32m~\\miniconda3\\Lib\\site-packages\\numpy\\linalg\\linalg.py:561\u001B[0m, in \u001B[0;36minv\u001B[1;34m(a)\u001B[0m\n\u001B[0;32m    559\u001B[0m signature \u001B[38;5;241m=\u001B[39m \u001B[38;5;124m'\u001B[39m\u001B[38;5;124mD->D\u001B[39m\u001B[38;5;124m'\u001B[39m \u001B[38;5;28;01mif\u001B[39;00m isComplexType(t) \u001B[38;5;28;01melse\u001B[39;00m \u001B[38;5;124m'\u001B[39m\u001B[38;5;124md->d\u001B[39m\u001B[38;5;124m'\u001B[39m\n\u001B[0;32m    560\u001B[0m extobj \u001B[38;5;241m=\u001B[39m get_linalg_error_extobj(_raise_linalgerror_singular)\n\u001B[1;32m--> 561\u001B[0m ainv \u001B[38;5;241m=\u001B[39m _umath_linalg\u001B[38;5;241m.\u001B[39minv(a, signature\u001B[38;5;241m=\u001B[39msignature, extobj\u001B[38;5;241m=\u001B[39mextobj)\n\u001B[0;32m    562\u001B[0m \u001B[38;5;28;01mreturn\u001B[39;00m wrap(ainv\u001B[38;5;241m.\u001B[39mastype(result_t, copy\u001B[38;5;241m=\u001B[39m\u001B[38;5;28;01mFalse\u001B[39;00m))\n",
      "File \u001B[1;32m~\\miniconda3\\Lib\\site-packages\\numpy\\linalg\\linalg.py:112\u001B[0m, in \u001B[0;36m_raise_linalgerror_singular\u001B[1;34m(err, flag)\u001B[0m\n\u001B[0;32m    111\u001B[0m \u001B[38;5;28;01mdef\u001B[39;00m \u001B[38;5;21m_raise_linalgerror_singular\u001B[39m(err, flag):\n\u001B[1;32m--> 112\u001B[0m     \u001B[38;5;28;01mraise\u001B[39;00m LinAlgError(\u001B[38;5;124m\"\u001B[39m\u001B[38;5;124mSingular matrix\u001B[39m\u001B[38;5;124m\"\u001B[39m)\n",
      "\u001B[1;31mLinAlgError\u001B[0m: Singular matrix"
     ]
    }
   ],
   "execution_count": 46
  },
  {
   "metadata": {
    "ExecuteTime": {
     "end_time": "2024-09-08T11:56:14.187011Z",
     "start_time": "2024-09-08T11:56:14.158704Z"
    }
   },
   "cell_type": "code",
   "source": [
    "q=np.matrix(np.arange(0,25).reshape(5,5))\n",
    "q=np.linalg.inv(q)\n",
    "q"
   ],
   "id": "d574276ef6fb6b9c",
   "outputs": [
    {
     "ename": "LinAlgError",
     "evalue": "Singular matrix",
     "output_type": "error",
     "traceback": [
      "\u001B[1;31m---------------------------------------------------------------------------\u001B[0m",
      "\u001B[1;31mLinAlgError\u001B[0m                               Traceback (most recent call last)",
      "Cell \u001B[1;32mIn[47], line 2\u001B[0m\n\u001B[0;32m      1\u001B[0m q\u001B[38;5;241m=\u001B[39mnp\u001B[38;5;241m.\u001B[39mmatrix(np\u001B[38;5;241m.\u001B[39marange(\u001B[38;5;241m0\u001B[39m,\u001B[38;5;241m25\u001B[39m)\u001B[38;5;241m.\u001B[39mreshape(\u001B[38;5;241m5\u001B[39m,\u001B[38;5;241m5\u001B[39m))\n\u001B[1;32m----> 2\u001B[0m q\u001B[38;5;241m=\u001B[39mnp\u001B[38;5;241m.\u001B[39mlinalg\u001B[38;5;241m.\u001B[39minv(q)\n\u001B[0;32m      3\u001B[0m q\n",
      "File \u001B[1;32m~\\miniconda3\\Lib\\site-packages\\numpy\\linalg\\linalg.py:561\u001B[0m, in \u001B[0;36minv\u001B[1;34m(a)\u001B[0m\n\u001B[0;32m    559\u001B[0m signature \u001B[38;5;241m=\u001B[39m \u001B[38;5;124m'\u001B[39m\u001B[38;5;124mD->D\u001B[39m\u001B[38;5;124m'\u001B[39m \u001B[38;5;28;01mif\u001B[39;00m isComplexType(t) \u001B[38;5;28;01melse\u001B[39;00m \u001B[38;5;124m'\u001B[39m\u001B[38;5;124md->d\u001B[39m\u001B[38;5;124m'\u001B[39m\n\u001B[0;32m    560\u001B[0m extobj \u001B[38;5;241m=\u001B[39m get_linalg_error_extobj(_raise_linalgerror_singular)\n\u001B[1;32m--> 561\u001B[0m ainv \u001B[38;5;241m=\u001B[39m _umath_linalg\u001B[38;5;241m.\u001B[39minv(a, signature\u001B[38;5;241m=\u001B[39msignature, extobj\u001B[38;5;241m=\u001B[39mextobj)\n\u001B[0;32m    562\u001B[0m \u001B[38;5;28;01mreturn\u001B[39;00m wrap(ainv\u001B[38;5;241m.\u001B[39mastype(result_t, copy\u001B[38;5;241m=\u001B[39m\u001B[38;5;28;01mFalse\u001B[39;00m))\n",
      "File \u001B[1;32m~\\miniconda3\\Lib\\site-packages\\numpy\\linalg\\linalg.py:112\u001B[0m, in \u001B[0;36m_raise_linalgerror_singular\u001B[1;34m(err, flag)\u001B[0m\n\u001B[0;32m    111\u001B[0m \u001B[38;5;28;01mdef\u001B[39;00m \u001B[38;5;21m_raise_linalgerror_singular\u001B[39m(err, flag):\n\u001B[1;32m--> 112\u001B[0m     \u001B[38;5;28;01mraise\u001B[39;00m LinAlgError(\u001B[38;5;124m\"\u001B[39m\u001B[38;5;124mSingular matrix\u001B[39m\u001B[38;5;124m\"\u001B[39m)\n",
      "\u001B[1;31mLinAlgError\u001B[0m: Singular matrix"
     ]
    }
   ],
   "execution_count": 47
  },
  {
   "metadata": {},
   "cell_type": "code",
   "outputs": [],
   "execution_count": null,
   "source": "",
   "id": "587e113806838c1c"
  }
 ],
 "metadata": {
  "kernelspec": {
   "display_name": "Python 3",
   "language": "python",
   "name": "python3"
  },
  "language_info": {
   "codemirror_mode": {
    "name": "ipython",
    "version": 2
   },
   "file_extension": ".py",
   "mimetype": "text/x-python",
   "name": "python",
   "nbconvert_exporter": "python",
   "pygments_lexer": "ipython2",
   "version": "2.7.6"
  }
 },
 "nbformat": 4,
 "nbformat_minor": 5
}
